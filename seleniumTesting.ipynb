{
 "cells": [
  {
   "cell_type": "code",
   "execution_count": 1,
   "metadata": {},
   "outputs": [],
   "source": [
    "from utils import *\n",
    "from googleScholarsModule.getLinks import *"
   ]
  },
  {
   "cell_type": "code",
   "execution_count": 2,
   "metadata": {},
   "outputs": [],
   "source": [
    "driver = getSeleniumDriver(chromePath=\"\",defaultDownloadDirectory=\"\")"
   ]
  },
  {
   "cell_type": "code",
   "execution_count": 3,
   "metadata": {},
   "outputs": [],
   "source": [
    "reqUrl = getRequestURL(q=\"10.1016/j.jfutfo.2024.05.008\",start=0)"
   ]
  },
  {
   "cell_type": "code",
   "execution_count": 4,
   "metadata": {},
   "outputs": [
    {
     "data": {
      "text/plain": [
       "'https://scholar.google.com/scholar?q=10.1016%2Fj.jfutfo.2024.05.008&hl=en&as_std=0%2C5&start=0'"
      ]
     },
     "execution_count": 4,
     "metadata": {},
     "output_type": "execute_result"
    }
   ],
   "source": [
    "reqUrl"
   ]
  },
  {
   "cell_type": "code",
   "execution_count": 5,
   "metadata": {},
   "outputs": [],
   "source": [
    "driver.get(reqUrl)"
   ]
  },
  {
   "cell_type": "code",
   "execution_count": 6,
   "metadata": {},
   "outputs": [
    {
     "name": "stderr",
     "output_type": "stream",
     "text": [
      "/home/madhan/Downloads/heplLaptop/heplDrive/googleFinal/googleScholarsModule/getLinks.py:179: GuessedAtParserWarning: No parser was explicitly specified, so I'm using the best available HTML parser for this system (\"html.parser\"). This usually isn't a problem, but if you run this code on another system, or in a different virtual environment, it may use a different parser and behave differently.\n",
      "\n",
      "The code that caused this warning is on line 179 of the file /home/madhan/Downloads/heplLaptop/heplDrive/googleFinal/googleScholarsModule/getLinks.py. To get rid of this warning, pass the additional argument 'features=\"html.parser\"' to the BeautifulSoup constructor.\n",
      "\n",
      "  try:return b(response)\n"
     ]
    }
   ],
   "source": [
    "soup = getSoupObject(driver.page_source)"
   ]
  },
  {
   "cell_type": "code",
   "execution_count": 7,
   "metadata": {},
   "outputs": [
    {
     "data": {
      "text/plain": [
       "[{'title': '[HTML][HTML] Effect of alternating magnetic field on ice crystal nucleation and its application for near-freezing temperature storage of grapes',\n",
       "  'link': 'https://www.sciencedirect.com/science/article/pii/S2772566924000211',\n",
       "  'downloadableLink': 'https://www.sciencedirect.com/science/article/pii/S2772566924000211',\n",
       "  'linkTag': 'c6BO3DIivUYJ'}]"
      ]
     },
     "execution_count": 7,
     "metadata": {},
     "output_type": "execute_result"
    }
   ],
   "source": [
    "[forEachSoup(x) for x in soup.find(\"div\",{\"id\":\"gs_res_ccl_mid\"}).find_all(\"div\",{\"class\":\"gs_r gs_or gs_scl\"})]"
   ]
  },
  {
   "cell_type": "code",
   "execution_count": 8,
   "metadata": {},
   "outputs": [
    {
     "data": {
      "text/plain": [
       "<selenium.webdriver.chrome.webdriver.WebDriver (session=\"ba8bd59cdda50cc86cc494a4c3235d1c\")>"
      ]
     },
     "execution_count": 8,
     "metadata": {},
     "output_type": "execute_result"
    }
   ],
   "source": [
    "ClickById(driver=driver,id = \"c6BO3DIivUYJ\")"
   ]
  },
  {
   "cell_type": "code",
   "execution_count": 11,
   "metadata": {},
   "outputs": [],
   "source": [
    "import time"
   ]
  },
  {
   "cell_type": "code",
   "execution_count": 16,
   "metadata": {},
   "outputs": [],
   "source": [
    "\n"
   ]
  },
  {
   "cell_type": "code",
   "execution_count": 17,
   "metadata": {},
   "outputs": [],
   "source": [
    "time.sleep(10)\n",
    "ClickByclassName(driver)"
   ]
  },
  {
   "cell_type": "code",
   "execution_count": 25,
   "metadata": {},
   "outputs": [
    {
     "data": {
      "text/plain": [
       "True"
      ]
     },
     "execution_count": 25,
     "metadata": {},
     "output_type": "execute_result"
    }
   ],
   "source": [
    "count = 3\n",
    "count%2 != 0"
   ]
  },
  {
   "cell_type": "code",
   "execution_count": 1,
   "metadata": {},
   "outputs": [],
   "source": [
    "from main import *"
   ]
  },
  {
   "cell_type": "code",
   "execution_count": 2,
   "metadata": {},
   "outputs": [
    {
     "name": "stdout",
     "output_type": "stream",
     "text": [
      "downloads\n",
      "/home/madhan/Downloads/heplLaptop/heplDrive/researchPaperDownloads/downloads/polyphenol_based_color\n",
      "download directory created successfully\n",
      "Started processing page number , 1\n"
     ]
    },
    {
     "name": "stderr",
     "output_type": "stream",
     "text": [
      "/home/madhan/Downloads/heplLaptop/heplDrive/researchPaperDownloads/googleScholarsModule/getLinks.py:201: GuessedAtParserWarning: No parser was explicitly specified, so I'm using the best available HTML parser for this system (\"html.parser\"). This usually isn't a problem, but if you run this code on another system, or in a different virtual environment, it may use a different parser and behave differently.\n",
      "\n",
      "The code that caused this warning is on line 201 of the file /home/madhan/Downloads/heplLaptop/heplDrive/researchPaperDownloads/googleScholarsModule/getLinks.py. To get rid of this warning, pass the additional argument 'features=\"html.parser\"' to the BeautifulSoup constructor.\n",
      "\n",
      "  try:return b(response)\n"
     ]
    },
    {
     "name": "stdout",
     "output_type": "stream",
     "text": [
      "trying to load page based on scopus\n",
      "10.1016/j.jfutfo.2024.05.007\n",
      "https://scholar.google.com/scholar?q=10.1016%2Fj.jfutfo.2024.05.007&hl=en&as_std=0%2C5&start=0\n",
      "1\n",
      "2\n",
      "SixMw7_SYPoJ\n"
     ]
    }
   ],
   "source": [
    "main(q = \"polyphenol based color\")"
   ]
  },
  {
   "cell_type": "code",
   "execution_count": 3,
   "metadata": {},
   "outputs": [],
   "source": [
    "driver = getSeleniumDriver(\"\",\"\")"
   ]
  },
  {
   "cell_type": "code",
   "execution_count": 5,
   "metadata": {},
   "outputs": [
    {
     "name": "stdout",
     "output_type": "stream",
     "text": [
      "trying to load page based on scopus\n",
      "https://scholar.google.com/scholar?q=10.1016%2Fj.jfutfo.2024.05.007&hl=en&as_std=0%2C5&start=0\n",
      "1\n",
      "2\n",
      "B5tgH9vMxtYJ\n"
     ]
    },
    {
     "name": "stderr",
     "output_type": "stream",
     "text": [
      "/home/madhan/Downloads/heplLaptop/heplDrive/researchPaperDownloads/googleScholarsModule/getLinks.py:201: GuessedAtParserWarning: No parser was explicitly specified, so I'm using the best available HTML parser for this system (\"html.parser\"). This usually isn't a problem, but if you run this code on another system, or in a different virtual environment, it may use a different parser and behave differently.\n",
      "\n",
      "The code that caused this warning is on line 201 of the file /home/madhan/Downloads/heplLaptop/heplDrive/researchPaperDownloads/googleScholarsModule/getLinks.py. To get rid of this warning, pass the additional argument 'features=\"html.parser\"' to the BeautifulSoup constructor.\n",
      "\n",
      "  try:return b(response)\n"
     ]
    },
    {
     "data": {
      "text/plain": [
       "<selenium.webdriver.chrome.webdriver.WebDriver (session=\"0be94bc77476a56fbc6c45a76c41373b\")>"
      ]
     },
     "execution_count": 5,
     "metadata": {},
     "output_type": "execute_result"
    }
   ],
   "source": [
    "print(\"trying to load page based on scopus\")\n",
    "doi = \"10.1016/j.jfutfo.2024.05.007\"\n",
    "doiUrl = getRequestURL(q=doi,start=0)\n",
    "print(doiUrl)\n",
    "seleniumWayOfExtraction(driver=driver,pdf_url=doiUrl)\n",
    "print(1)\n",
    "soup_doi = getSoupObject(driver.page_source)\n",
    "print(2)\n",
    "tag = [forEachSoup(x) for x in soup_doi.find(\"div\",{\"id\":\"gs_res_ccl_mid\"}).find_all(\"div\",{\"class\":\"gs_r gs_or gs_scl\"})][0].get(\"linkTag\")\n",
    "print(tag)\n",
    "ClickById(driver=driver,id = tag)\n",
    "ClickByclassName(driver=driver)"
   ]
  },
  {
   "cell_type": "code",
   "execution_count": null,
   "metadata": {},
   "outputs": [],
   "source": []
  }
 ],
 "metadata": {
  "kernelspec": {
   "display_name": "google2",
   "language": "python",
   "name": "python3"
  },
  "language_info": {
   "codemirror_mode": {
    "name": "ipython",
    "version": 3
   },
   "file_extension": ".py",
   "mimetype": "text/x-python",
   "name": "python",
   "nbconvert_exporter": "python",
   "pygments_lexer": "ipython3",
   "version": "3.10.12"
  }
 },
 "nbformat": 4,
 "nbformat_minor": 2
}
